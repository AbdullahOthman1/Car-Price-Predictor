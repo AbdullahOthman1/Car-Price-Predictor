{
 "cells": [
  {
   "cell_type": "markdown",
   "metadata": {},
   "source": [
    "**Import necessary libraries.**"
   ]
  },
  {
   "cell_type": "code",
   "execution_count": null,
   "metadata": {},
   "outputs": [],
   "source": [
    "from bs4 import BeautifulSoup\n",
    "import pandas as pd\n",
    "import os"
   ]
  },
  {
   "cell_type": "markdown",
   "metadata": {},
   "source": [
    "`extract_data` is a function uses `soup` library to extract the data from  the given dataset."
   ]
  },
  {
   "cell_type": "code",
   "execution_count": null,
   "metadata": {},
   "outputs": [],
   "source": [
    "def extract_data(soup):\n",
    "    item_data = {}\n",
    "    addition_data = []\n",
    "\n",
    "    if soup.find('table', class_='driving-table'):\n",
    "        item_data['Name'] = soup.find('h3').text.strip()\n",
    "        try:\n",
    "            item_data['Model'] = int(soup.find('h5').text.strip().split()[2])\n",
    "            item_data['Price'] = int(soup.find('h5', class_='post-price').text.strip().split()[0])\n",
    "        except (IndexError, ValueError):\n",
    "            return None\n",
    "\n",
    "        for additions_table in soup.find_all('table', class_='list_ads'):\n",
    "            for row in additions_table.find_all('tr'):\n",
    "                cells = row.find_all('td')\n",
    "                if len(cells) >= 2:\n",
    "                    attribute = cells[0].text.strip()\n",
    "                    value = cells[1].text.strip()\n",
    "\n",
    "                    addition_data.append(attribute)\n",
    "                    item_data[attribute] = value\n",
    "    else:\n",
    "        return None\n",
    "\n",
    "    return item_data"
   ]
  },
  {
   "cell_type": "markdown",
   "metadata": {},
   "source": [
    "Read the dataset and use `extract_data` function."
   ]
  },
  {
   "cell_type": "code",
   "execution_count": null,
   "metadata": {},
   "outputs": [],
   "source": [
    "folder_path = './data/'\n",
    "cars_data = []\n",
    "\n",
    "for filename in os.listdir(folder_path):\n",
    "    if filename.endswith('.txt'):\n",
    "        file_path = os.path.join(folder_path, filename)\n",
    "\n",
    "        with open(file_path, 'r', encoding='utf-8') as file:\n",
    "            html_content = file.read()\n",
    "\n",
    "        soup = BeautifulSoup(html_content, 'html.parser')\n",
    "        data = extract_data(soup)\n",
    "\n",
    "        if data:\n",
    "            cars_data.append(data)\n"
   ]
  },
  {
   "cell_type": "markdown",
   "metadata": {},
   "source": [
    "Convert the extracted data into a `df` and convert it into a `.csv` file."
   ]
  },
  {
   "cell_type": "code",
   "execution_count": null,
   "metadata": {},
   "outputs": [],
   "source": [
    "df = pd.DataFrame(cars_data)\n",
    "csv_file_path = 'cars.csv'\n",
    "df.to_csv(csv_file_path, index=False)"
   ]
  }
 ],
 "metadata": {
  "kernelspec": {
   "display_name": "Python 3",
   "language": "python",
   "name": "python3"
  },
  "language_info": {
   "codemirror_mode": {
    "name": "ipython",
    "version": 3
   },
   "file_extension": ".py",
   "mimetype": "text/x-python",
   "name": "python",
   "nbconvert_exporter": "python",
   "pygments_lexer": "ipython3",
   "version": "3.11.5"
  }
 },
 "nbformat": 4,
 "nbformat_minor": 2
}
