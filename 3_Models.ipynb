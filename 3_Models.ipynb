{
 "cells": [
  {
   "cell_type": "markdown",
   "metadata": {},
   "source": [
    "Import needed Libraries"
   ]
  },
  {
   "cell_type": "code",
   "execution_count": 1,
   "metadata": {},
   "outputs": [],
   "source": [
    "import pandas as pd\n",
    "import numpy as np\n",
    "from sklearn.model_selection import train_test_split\n",
    "from sklearn.preprocessing import PolynomialFeatures\n",
    "from sklearn.linear_model import LinearRegression\n",
    "from sklearn.metrics import mean_squared_error\n",
    "from sklearn.neighbors import KNeighborsRegressor\n",
    "from sklearn.tree import DecisionTreeRegressor\n",
    "from sklearn.model_selection import cross_val_score\n",
    "from sklearn.pipeline import make_pipeline\n",
    "from sklearn.datasets import make_regression\n",
    "from sklearn.neighbors import KNeighborsClassifier\n",
    "from sklearn.metrics import r2_score"
   ]
  },
  {
   "cell_type": "markdown",
   "metadata": {},
   "source": [
    "Create a `dataframe`"
   ]
  },
  {
   "cell_type": "code",
   "execution_count": 2,
   "metadata": {},
   "outputs": [],
   "source": [
    "df = pd.read_csv('cleaned_cars.csv')"
   ]
  },
  {
   "cell_type": "markdown",
   "metadata": {},
   "source": [
    "## ***Polynomial Model***"
   ]
  },
  {
   "cell_type": "markdown",
   "metadata": {},
   "source": [
    "Choosing the `optimal_degree`"
   ]
  },
  {
   "cell_type": "code",
   "execution_count": 3,
   "metadata": {},
   "outputs": [
    {
     "name": "stdout",
     "output_type": "stream",
     "text": [
      "Optimal polynomial degree: 1\n"
     ]
    }
   ],
   "source": [
    "X, y = make_regression(n_samples=100, n_features=1, noise=30, random_state=42)\n",
    "\n",
    "degrees = np.arange(1, 10)\n",
    "\n",
    "cv_scores = []\n",
    "for degree in degrees:\n",
    "    model = make_pipeline(PolynomialFeatures(degree), LinearRegression())\n",
    "    scores = cross_val_score(model, X, y, cv=5, scoring='neg_mean_squared_error')\n",
    "    cv_scores.append(-np.mean(scores))  # Convert to positive MSE\n",
    "\n",
    "optimal_degree = degrees[np.argmin(cv_scores)]\n",
    "print(\"Optimal polynomial degree:\", optimal_degree)"
   ]
  },
  {
   "cell_type": "markdown",
   "metadata": {},
   "source": [
    "Applying the model"
   ]
  },
  {
   "cell_type": "code",
   "execution_count": 4,
   "metadata": {},
   "outputs": [],
   "source": [
    "X = df.drop('Price', axis=1)\n",
    "y = df['Price']\n",
    "\n",
    "X_train, X_test, y_train, y_test = train_test_split(X, y, test_size=0.2, random_state=42)\n",
    "\n",
    "poly = PolynomialFeatures(degree=optimal_degree)\n",
    "X_poly_train = poly.fit_transform(X_train)\n",
    "X_poly_test = poly.transform(X_test)\n",
    "\n",
    "poly_reg = LinearRegression()\n",
    "poly_reg.fit(X_poly_train, y_train)\n",
    "\n",
    "y_poly_pred_train = poly_reg.predict(X_poly_train)\n",
    "y_poly_pred_test = poly_reg.predict(X_poly_test)\n",
    "\n",
    "mse_poly_train = mean_squared_error(y_train, y_poly_pred_train)\n",
    "mse_poly_test = mean_squared_error(y_test, y_poly_pred_test)"
   ]
  },
  {
   "cell_type": "markdown",
   "metadata": {},
   "source": [
    "## ***kNN Model***"
   ]
  },
  {
   "cell_type": "markdown",
   "metadata": {},
   "source": [
    "Choose the `optimal_k` for the model."
   ]
  },
  {
   "cell_type": "code",
   "execution_count": 5,
   "metadata": {},
   "outputs": [
    {
     "name": "stderr",
     "output_type": "stream",
     "text": [
      "c:\\Users\\Abdullah\\AppData\\Local\\Programs\\Python\\Python311\\Lib\\site-packages\\sklearn\\model_selection\\_split.py:737: UserWarning: The least populated class in y has only 1 members, which is less than n_splits=5.\n",
      "  warnings.warn(\n",
      "c:\\Users\\Abdullah\\AppData\\Local\\Programs\\Python\\Python311\\Lib\\site-packages\\sklearn\\model_selection\\_split.py:737: UserWarning: The least populated class in y has only 1 members, which is less than n_splits=5.\n",
      "  warnings.warn(\n",
      "c:\\Users\\Abdullah\\AppData\\Local\\Programs\\Python\\Python311\\Lib\\site-packages\\sklearn\\model_selection\\_split.py:737: UserWarning: The least populated class in y has only 1 members, which is less than n_splits=5.\n",
      "  warnings.warn(\n",
      "c:\\Users\\Abdullah\\AppData\\Local\\Programs\\Python\\Python311\\Lib\\site-packages\\sklearn\\model_selection\\_split.py:737: UserWarning: The least populated class in y has only 1 members, which is less than n_splits=5.\n",
      "  warnings.warn(\n",
      "c:\\Users\\Abdullah\\AppData\\Local\\Programs\\Python\\Python311\\Lib\\site-packages\\sklearn\\model_selection\\_split.py:737: UserWarning: The least populated class in y has only 1 members, which is less than n_splits=5.\n",
      "  warnings.warn(\n",
      "c:\\Users\\Abdullah\\AppData\\Local\\Programs\\Python\\Python311\\Lib\\site-packages\\sklearn\\model_selection\\_split.py:737: UserWarning: The least populated class in y has only 1 members, which is less than n_splits=5.\n",
      "  warnings.warn(\n",
      "c:\\Users\\Abdullah\\AppData\\Local\\Programs\\Python\\Python311\\Lib\\site-packages\\sklearn\\model_selection\\_split.py:737: UserWarning: The least populated class in y has only 1 members, which is less than n_splits=5.\n",
      "  warnings.warn(\n",
      "c:\\Users\\Abdullah\\AppData\\Local\\Programs\\Python\\Python311\\Lib\\site-packages\\sklearn\\model_selection\\_split.py:737: UserWarning: The least populated class in y has only 1 members, which is less than n_splits=5.\n",
      "  warnings.warn(\n",
      "c:\\Users\\Abdullah\\AppData\\Local\\Programs\\Python\\Python311\\Lib\\site-packages\\sklearn\\model_selection\\_split.py:737: UserWarning: The least populated class in y has only 1 members, which is less than n_splits=5.\n",
      "  warnings.warn(\n",
      "c:\\Users\\Abdullah\\AppData\\Local\\Programs\\Python\\Python311\\Lib\\site-packages\\sklearn\\model_selection\\_split.py:737: UserWarning: The least populated class in y has only 1 members, which is less than n_splits=5.\n",
      "  warnings.warn(\n"
     ]
    },
    {
     "name": "stdout",
     "output_type": "stream",
     "text": [
      "Optimal k value: 1\n"
     ]
    }
   ],
   "source": [
    "k_values = list(range(1, 21, 2))\n",
    "\n",
    "cv_scores = []\n",
    "for k in k_values:\n",
    "    knn = KNeighborsClassifier(n_neighbors=k)\n",
    "    scores = cross_val_score(knn, X, y, cv=5, scoring='accuracy')\n",
    "    cv_scores.append(scores.mean())\n",
    "\n",
    "optimal_k = k_values[np.argmax(cv_scores)]\n",
    "print(\"Optimal k value:\", optimal_k)"
   ]
  },
  {
   "cell_type": "markdown",
   "metadata": {},
   "source": [
    "Applying the model"
   ]
  },
  {
   "cell_type": "code",
   "execution_count": 6,
   "metadata": {},
   "outputs": [],
   "source": [
    "knn_reg = KNeighborsRegressor(n_neighbors=optimal_k)\n",
    "knn_reg.fit(X_train, y_train)\n",
    "\n",
    "y_knn_pred_train = knn_reg.predict(X_train)\n",
    "y_knn_pred_test = knn_reg.predict(X_test)\n",
    "\n",
    "mse_knn_train = mean_squared_error(y_train, y_knn_pred_train)\n",
    "mse_knn_test = mean_squared_error(y_test, y_knn_pred_test)"
   ]
  },
  {
   "cell_type": "markdown",
   "metadata": {},
   "source": [
    "## ***Decision Tree Model***"
   ]
  },
  {
   "cell_type": "markdown",
   "metadata": {},
   "source": [
    "Applying the model"
   ]
  },
  {
   "cell_type": "code",
   "execution_count": 7,
   "metadata": {},
   "outputs": [],
   "source": [
    "dt_reg = DecisionTreeRegressor(random_state=42)\n",
    "dt_reg.fit(X_train, y_train)\n",
    "\n",
    "y_dt_pred_train = dt_reg.predict(X_train)\n",
    "y_dt_pred_test = dt_reg.predict(X_test)\n",
    "\n",
    "mse_dt_train = mean_squared_error(y_train, y_dt_pred_train)\n",
    "mse_dt_test = mean_squared_error(y_test, y_dt_pred_test)"
   ]
  },
  {
   "cell_type": "markdown",
   "metadata": {},
   "source": [
    "## **Evaluation**"
   ]
  },
  {
   "cell_type": "markdown",
   "metadata": {},
   "source": [
    "### RMSE Evaluation "
   ]
  },
  {
   "cell_type": "code",
   "execution_count": 8,
   "metadata": {},
   "outputs": [
    {
     "name": "stdout",
     "output_type": "stream",
     "text": [
      "Polynomial Regression RMSE on Training Set: 33660.77838540121\n",
      "Polynomial Regression RMSE on Testing Set: 21906460564.19311\n",
      "kNN RMSE on Training Set: 12832.808237146432\n",
      "kNN RMSE on Testing Set: 62101.135468897526\n",
      "Decision Tree RMSE on Training Set: 9198.677402846764\n",
      "Decision Tree RMSE on Testing Set: 59425.958549534684\n"
     ]
    }
   ],
   "source": [
    "rmse_poly_train = np.sqrt(mse_poly_train)\n",
    "rmse_poly_test = np.sqrt(mse_poly_test)\n",
    "print(f'Polynomial Regression RMSE on Training Set: {rmse_poly_train}')\n",
    "print(f'Polynomial Regression RMSE on Testing Set: {rmse_poly_test}')\n",
    "\n",
    "rmse_knn_train = np.sqrt(mse_knn_train)\n",
    "rmse_knn_test = np.sqrt(mse_knn_test)\n",
    "print(f'kNN RMSE on Training Set: {rmse_knn_train}')\n",
    "print(f'kNN RMSE on Testing Set: {rmse_knn_test}')\n",
    "\n",
    "rmse_dt_train = np.sqrt(mse_dt_train)\n",
    "rmse_dt_test = np.sqrt(mse_dt_test)\n",
    "print(f'Decision Tree RMSE on Training Set: {rmse_dt_train}')\n",
    "print(f'Decision Tree RMSE on Testing Set: {rmse_dt_test}')"
   ]
  },
  {
   "cell_type": "markdown",
   "metadata": {},
   "source": [
    "### R-square Evaluation"
   ]
  },
  {
   "cell_type": "code",
   "execution_count": 9,
   "metadata": {},
   "outputs": [
    {
     "name": "stdout",
     "output_type": "stream",
     "text": [
      "Polynomial R2 Score on Training Set: 0.5724697551674993\n",
      "Polynomial R2 Score on Training Set: -140507078225.96735\n",
      "kNN R2 Score on Training Set: 0.9378613314225563\n",
      "kNN R2 Score on Training Set: -0.1291531663382226\n",
      "DT R2 Score on Training Set: 0.9680721766977209\n",
      "DT R2 Score on Training Set: -0.03396578119243143\n"
     ]
    }
   ],
   "source": [
    "r2_poly_train = r2_score(y_train, y_poly_pred_train)\n",
    "r2_poly_test = r2_score(y_test, y_poly_pred_test)\n",
    "print(\"Polynomial R2 Score on Training Set:\", r2_poly_train)\n",
    "print(\"Polynomial R2 Score on Training Set:\", r2_poly_test)\n",
    "\n",
    "r2_knn_train = r2_score(y_train, y_knn_pred_train)\n",
    "r2_knn_test = r2_score(y_test, y_knn_pred_test)\n",
    "print(\"kNN R2 Score on Training Set:\", r2_knn_train)\n",
    "print(\"kNN R2 Score on Training Set:\", r2_knn_test)\n",
    "\n",
    "r2_dt_train = r2_score(y_train, y_dt_pred_train)\n",
    "r2_dt_test = r2_score(y_test, y_dt_pred_test)\n",
    "print(\"DT R2 Score on Training Set:\", r2_dt_train)\n",
    "print(\"DT R2 Score on Training Set:\", r2_dt_test)"
   ]
  },
  {
   "cell_type": "markdown",
   "metadata": {},
   "source": [
    "### Adjusted R-square Evaluation"
   ]
  },
  {
   "cell_type": "code",
   "execution_count": 10,
   "metadata": {},
   "outputs": [
    {
     "name": "stdout",
     "output_type": "stream",
     "text": [
      "Adjusted R2 Score for Polynomial Regression on Training Set: 0.5286497179578682\n",
      "Adjusted R2 Score for Polynomial Regression on Testing Set: -223748666587.32196\n",
      "Adjusted R2 Score for kNN Regression on Training Set: 0.9315089772220522\n",
      "Adjusted R2 Score for kNN Regression on Testing Set: -0.7955904197574255\n",
      "Adjusted R2 Score for Decision Tree Regression on Training Set: 0.964808237396955\n",
      "Adjusted R2 Score for Decision Tree Regression on Testing Set: -0.6442225079941182\n"
     ]
    }
   ],
   "source": [
    "def adjusted_r2_score(r2, n, k):\n",
    "    return 1 - ((1 - r2) * (n - 1) / (n - k - 1))\n",
    "\n",
    "n_poly_train = len(y_train)\n",
    "k_poly = X_poly_train.shape[1]\n",
    "adj_r2_poly_train = adjusted_r2_score(r2_poly_train, n_poly_train, k_poly)\n",
    "adj_r2_poly_test = adjusted_r2_score(r2_poly_test, len(y_test), k_poly)\n",
    "print(\"Adjusted R2 Score for Polynomial Regression on Training Set:\", adj_r2_poly_train)\n",
    "print(\"Adjusted R2 Score for Polynomial Regression on Testing Set:\", adj_r2_poly_test)\n",
    "\n",
    "n_knn_train = len(y_train)\n",
    "k_knn = X_train.shape[1] \n",
    "adj_r2_knn_train = adjusted_r2_score(r2_knn_train, n_knn_train, k_knn)\n",
    "adj_r2_knn_test = adjusted_r2_score(r2_knn_test, len(y_test), k_knn)\n",
    "print(\"Adjusted R2 Score for kNN Regression on Training Set:\", adj_r2_knn_train)\n",
    "print(\"Adjusted R2 Score for kNN Regression on Testing Set:\", adj_r2_knn_test)\n",
    "\n",
    "n_dt_train = len(y_train)\n",
    "k_dt = X_train.shape[1] \n",
    "adj_r2_dt_train = adjusted_r2_score(r2_dt_train, n_dt_train, k_dt)\n",
    "adj_r2_dt_test = adjusted_r2_score(r2_dt_test, len(y_test), k_dt)\n",
    "print(\"Adjusted R2 Score for Decision Tree Regression on Training Set:\", adj_r2_dt_train)\n",
    "print(\"Adjusted R2 Score for Decision Tree Regression on Testing Set:\", adj_r2_dt_test)"
   ]
  },
  {
   "cell_type": "markdown",
   "metadata": {},
   "source": [
    "### Based on the previous evaluations, the Decision Tree Model is the best one between the models"
   ]
  }
 ],
 "metadata": {
  "kernelspec": {
   "display_name": "Python 3",
   "language": "python",
   "name": "python3"
  },
  "language_info": {
   "codemirror_mode": {
    "name": "ipython",
    "version": 3
   },
   "file_extension": ".py",
   "mimetype": "text/x-python",
   "name": "python",
   "nbconvert_exporter": "python",
   "pygments_lexer": "ipython3",
   "version": "3.11.5"
  }
 },
 "nbformat": 4,
 "nbformat_minor": 2
}
